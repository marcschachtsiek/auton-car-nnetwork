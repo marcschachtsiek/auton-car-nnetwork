{
 "cells": [
  {
   "cell_type": "code",
   "execution_count": 1,
   "metadata": {
    "collapsed": true
   },
   "outputs": [
    {
     "name": "stderr",
     "output_type": "stream",
     "text": [
      "c:\\program files\\python38\\lib\\site-packages\\numpy\\_distributor_init.py:30: UserWarning: loaded more than 1 DLL from .libs:\n",
      "c:\\program files\\python38\\lib\\site-packages\\numpy\\.libs\\libopenblas.NOIJJG62EMASZI6NYURL6JBKM4EVBGM7.gfortran-win_amd64.dll\n",
      "c:\\program files\\python38\\lib\\site-packages\\numpy\\.libs\\libopenblas.PYQHXLVVQ7VESDPUVUADXEVJOBGHJPAY.gfortran-win_amd64.dll\n",
      "  warnings.warn(\"loaded more than 1 DLL from .libs:\\n%s\" %\n"
     ]
    }
   ],
   "source": [
    "import cv2 as cv\n",
    "import pandas as pd\n",
    "\n",
    "path = \"C:\\\\Dev\\\\Smart Car Project\\\\Dataset-prep\\\\\"\n",
    "\n",
    "def apply_blur(in_folder, out_folder, in_file=\"output-aug.csv\", kernel=(5,5), sigma=1):\n",
    "    df = pd.read_csv(path + in_folder + in_file)\n",
    "\n",
    "    def blur(row):\n",
    "        filename = row[\"filename\"]\n",
    "        img = cv.imread(path + in_folder + \"frames\\\\\" + filename)\n",
    "        img_blur = cv.GaussianBlur(img, kernel, sigma)\n",
    "        cv.imwrite(path + out_folder + \"frames\\\\\" + filename, img_blur)\n",
    "\n",
    "    df.apply(blur, axis=1)\n",
    "\n",
    "apply_blur(\"self-made\\\\\", \"self-made-blur2\\\\\", kernel=(0,0), sigma=2)\n",
    "apply_blur(\"self-made\\\\\", \"self-made-blur4\\\\\", kernel=(0,0), sigma=4)\n",
    "apply_blur(\"self-made\\\\\", \"self-made-blur8\\\\\", kernel=(0,0), sigma=8)\n",
    "apply_blur(\"nvidia\\\\\", \"nvidia-blur2\\\\\", kernel=(0,0), sigma=2)\n",
    "apply_blur(\"nvidia\\\\\", \"nvidia-blur4\\\\\", kernel=(0,0), sigma=4)\n",
    "apply_blur(\"nvidia\\\\\", \"nvidia-blur8\\\\\", kernel=(0,0), sigma=8)"
   ]
  },
  {
   "cell_type": "code",
   "execution_count": 1,
   "outputs": [
    {
     "name": "stderr",
     "output_type": "stream",
     "text": [
      "c:\\program files\\python38\\lib\\site-packages\\numpy\\_distributor_init.py:30: UserWarning: loaded more than 1 DLL from .libs:\n",
      "c:\\program files\\python38\\lib\\site-packages\\numpy\\.libs\\libopenblas.NOIJJG62EMASZI6NYURL6JBKM4EVBGM7.gfortran-win_amd64.dll\n",
      "c:\\program files\\python38\\lib\\site-packages\\numpy\\.libs\\libopenblas.PYQHXLVVQ7VESDPUVUADXEVJOBGHJPAY.gfortran-win_amd64.dll\n",
      "  warnings.warn(\"loaded more than 1 DLL from .libs:\\n%s\" %\n"
     ]
    }
   ],
   "source": [
    "import pandas as pd\n",
    "\n",
    "path = \"C:\\\\Dev\\\\Smart Car Project\\\\Dataset-prep\\\\\"\n",
    "\n",
    "def normalise(path, file):\n",
    "    df = pd.read_csv(path + file)\n",
    "    min_val = df['angle'].min()\n",
    "    max_val = df['angle'].max()\n",
    "    df['angle'] = (((df['angle'] - min_val) / (max_val - min_val)) - 0.5) * 2\n",
    "    df.to_csv(path + \"output2.csv\")\n",
    "\n",
    "\n",
    "normalise(path + \"nvidia\\\\\", \"output.csv\")\n",
    "normalise(path + \"nvidia-blur\\\\\", \"output.csv\")\n",
    "normalise(path + \"nvidia-blur-str\\\\\", \"output.csv\")"
   ],
   "metadata": {
    "collapsed": false,
    "pycharm": {
     "name": "#%%\n"
    }
   }
  }
 ],
 "metadata": {
  "kernelspec": {
   "display_name": "Python 3",
   "language": "python",
   "name": "python3"
  },
  "language_info": {
   "codemirror_mode": {
    "name": "ipython",
    "version": 2
   },
   "file_extension": ".py",
   "mimetype": "text/x-python",
   "name": "python",
   "nbconvert_exporter": "python",
   "pygments_lexer": "ipython2",
   "version": "2.7.6"
  }
 },
 "nbformat": 4,
 "nbformat_minor": 0
}