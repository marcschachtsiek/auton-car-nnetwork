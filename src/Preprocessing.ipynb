{
 "cells": [
  {
   "cell_type": "markdown",
   "source": [
    "## Dataset Creation and Data Augmentation\n",
    "\n",
    "1. Set working directory to folder containing the datasets\n",
    "2. Create the dataset from the recorded frames and steering angles\n",
    "3. Augment the original data with mirrored frames and inverted steering angles"
   ],
   "metadata": {
    "collapsed": false,
    "pycharm": {
     "name": "#%% md\n"
    }
   }
  },
  {
   "cell_type": "code",
   "execution_count": 1,
   "outputs": [
    {
     "name": "stderr",
     "output_type": "stream",
     "text": [
      "c:\\program files\\python38\\lib\\site-packages\\numpy\\_distributor_init.py:30: UserWarning: loaded more than 1 DLL from .libs:\n",
      "c:\\program files\\python38\\lib\\site-packages\\numpy\\.libs\\libopenblas.NOIJJG62EMASZI6NYURL6JBKM4EVBGM7.gfortran-win_amd64.dll\n",
      "c:\\program files\\python38\\lib\\site-packages\\numpy\\.libs\\libopenblas.PYQHXLVVQ7VESDPUVUADXEVJOBGHJPAY.gfortran-win_amd64.dll\n",
      "  warnings.warn(\"loaded more than 1 DLL from .libs:\\n%s\" %\n"
     ]
    }
   ],
   "source": [
    "import os\n",
    "from src.preprocess import create_dataset, dataset_save, dataset_load, augment, blur_dataset, mix_datasets\n",
    "\n",
    "os.chdir(\"C:\\\\Dev\\\\Smart Car Project\\\\auton-car-nnetwork\\\\data\")\n",
    "\n",
    "dataset_1 = \"self-made\""
   ],
   "metadata": {
    "collapsed": false,
    "pycharm": {
     "name": "#%%\n"
    }
   }
  },
  {
   "cell_type": "markdown",
   "source": [
    "Create dataset from the original ```angels.csv``` file and the dataset definition dataframe is saved\n",
    "to a csv file."
   ],
   "metadata": {
    "collapsed": false,
    "pycharm": {
     "name": "#%% md\n"
    }
   }
  },
  {
   "cell_type": "code",
   "execution_count": 2,
   "outputs": [
    {
     "name": "stdout",
     "output_type": "stream",
     "text": [
      "30\n",
      "150\n"
     ]
    }
   ],
   "source": [
    "dataset_df = create_dataset(dataset_1, \"angels.csv\")\n",
    "dataset_save(dataset_1 , dataset_df, \"dataset.csv\")"
   ],
   "metadata": {
    "collapsed": false,
    "pycharm": {
     "name": "#%%\n"
    }
   }
  },
  {
   "cell_type": "markdown",
   "source": [
    "The next step is the augmentation of the dataset. The dataset definition is loaded, and the augmentation\n",
    "function is called. The augmented dataset definition is returned which is saved to another csv file."
   ],
   "metadata": {
    "collapsed": false,
    "pycharm": {
     "name": "#%% md\n"
    }
   }
  },
  {
   "cell_type": "code",
   "execution_count": 4,
   "outputs": [],
   "source": [
    "dataset_df = dataset_load(dataset_1, \"dataset.csv\")\n",
    "augmented_df = augment(dataset_1, dataset_df)\n",
    "dataset_save(dataset_1, augmented_df, \"dataset-aug.csv\")"
   ],
   "metadata": {
    "collapsed": false,
    "pycharm": {
     "name": "#%%\n"
    }
   }
  },
  {
   "cell_type": "markdown",
   "source": [
    "The blurred dataset is created from the entire augmented original. The appropriate dataset definition\n",
    "is loaded, the dataset is blurred to a new folder, and the resulting definition is saved."
   ],
   "metadata": {
    "collapsed": false,
    "pycharm": {
     "name": "#%% md\n"
    }
   }
  },
  {
   "cell_type": "code",
   "execution_count": 2,
   "outputs": [
    {
     "ename": "FileExistsError",
     "evalue": "[WinError 183] Cannot create a file when that file already exists: 'C:\\\\Dev\\\\Smart Car Project\\\\auton-car-nnetwork\\\\data\\\\self-made-blur4\\\\frames'",
     "output_type": "error",
     "traceback": [
      "\u001B[1;31m---------------------------------------------------------------------------\u001B[0m",
      "\u001B[1;31mFileExistsError\u001B[0m                           Traceback (most recent call last)",
      "\u001B[1;32m<ipython-input-2-9755836d775c>\u001B[0m in \u001B[0;36m<module>\u001B[1;34m\u001B[0m\n\u001B[0;32m      1\u001B[0m \u001B[0maugmented_df\u001B[0m \u001B[1;33m=\u001B[0m \u001B[0mdataset_load\u001B[0m\u001B[1;33m(\u001B[0m\u001B[1;34m\"self-made\"\u001B[0m\u001B[1;33m,\u001B[0m \u001B[1;34m\"dataset-aug.csv\"\u001B[0m\u001B[1;33m)\u001B[0m\u001B[1;33m\u001B[0m\u001B[1;33m\u001B[0m\u001B[0m\n\u001B[1;32m----> 2\u001B[1;33m \u001B[0mblurred_df\u001B[0m \u001B[1;33m=\u001B[0m \u001B[0mblur_dataset\u001B[0m\u001B[1;33m(\u001B[0m\u001B[1;34m\"self-made\"\u001B[0m\u001B[1;33m,\u001B[0m \u001B[1;34m\"self-made-blur4\"\u001B[0m\u001B[1;33m,\u001B[0m \u001B[0maugmented_df\u001B[0m\u001B[1;33m,\u001B[0m \u001B[0msigma\u001B[0m\u001B[1;33m=\u001B[0m\u001B[1;36m4\u001B[0m\u001B[1;33m)\u001B[0m\u001B[1;33m\u001B[0m\u001B[1;33m\u001B[0m\u001B[0m\n\u001B[0m\u001B[0;32m      3\u001B[0m \u001B[0mdataset_save\u001B[0m\u001B[1;33m(\u001B[0m\u001B[1;34m\"self-made-blur4\"\u001B[0m\u001B[1;33m,\u001B[0m \u001B[0mblurred_df\u001B[0m\u001B[1;33m,\u001B[0m \u001B[1;34m\"dataset-aug.csv\"\u001B[0m\u001B[1;33m)\u001B[0m\u001B[1;33m\u001B[0m\u001B[1;33m\u001B[0m\u001B[0m\n\u001B[0;32m      4\u001B[0m \u001B[1;33m\u001B[0m\u001B[0m\n",
      "\u001B[1;32mC:\\Dev\\Smart Car Project\\auton-car-nnetwork\\src\\preprocess\\preprocessing.py\u001B[0m in \u001B[0;36mblur_dataset\u001B[1;34m(dataset, blurred_folder, dataset_def, sigma, kernel)\u001B[0m\n\u001B[0;32m     20\u001B[0m     \"\"\"\n\u001B[0;32m     21\u001B[0m \u001B[1;33m\u001B[0m\u001B[0m\n\u001B[1;32m---> 22\u001B[1;33m     \u001B[0mos\u001B[0m\u001B[1;33m.\u001B[0m\u001B[0mmakedirs\u001B[0m\u001B[1;33m(\u001B[0m\u001B[0mos\u001B[0m\u001B[1;33m.\u001B[0m\u001B[0mgetcwd\u001B[0m\u001B[1;33m(\u001B[0m\u001B[1;33m)\u001B[0m \u001B[1;33m+\u001B[0m \u001B[1;34m\"\\\\\"\u001B[0m \u001B[1;33m+\u001B[0m \u001B[0mblurred_folder\u001B[0m \u001B[1;33m+\u001B[0m \u001B[1;34m\"\\\\frames\"\u001B[0m\u001B[1;33m)\u001B[0m\u001B[1;33m\u001B[0m\u001B[1;33m\u001B[0m\u001B[0m\n\u001B[0m\u001B[0;32m     23\u001B[0m \u001B[1;33m\u001B[0m\u001B[0m\n\u001B[0;32m     24\u001B[0m     \u001B[1;32mdef\u001B[0m \u001B[0mblur\u001B[0m\u001B[1;33m(\u001B[0m\u001B[0mrow\u001B[0m\u001B[1;33m)\u001B[0m\u001B[1;33m:\u001B[0m\u001B[1;33m\u001B[0m\u001B[1;33m\u001B[0m\u001B[0m\n",
      "\u001B[1;32mc:\\program files\\python38\\lib\\os.py\u001B[0m in \u001B[0;36mmakedirs\u001B[1;34m(name, mode, exist_ok)\u001B[0m\n\u001B[0;32m    221\u001B[0m             \u001B[1;32mreturn\u001B[0m\u001B[1;33m\u001B[0m\u001B[1;33m\u001B[0m\u001B[0m\n\u001B[0;32m    222\u001B[0m     \u001B[1;32mtry\u001B[0m\u001B[1;33m:\u001B[0m\u001B[1;33m\u001B[0m\u001B[1;33m\u001B[0m\u001B[0m\n\u001B[1;32m--> 223\u001B[1;33m         \u001B[0mmkdir\u001B[0m\u001B[1;33m(\u001B[0m\u001B[0mname\u001B[0m\u001B[1;33m,\u001B[0m \u001B[0mmode\u001B[0m\u001B[1;33m)\u001B[0m\u001B[1;33m\u001B[0m\u001B[1;33m\u001B[0m\u001B[0m\n\u001B[0m\u001B[0;32m    224\u001B[0m     \u001B[1;32mexcept\u001B[0m \u001B[0mOSError\u001B[0m\u001B[1;33m:\u001B[0m\u001B[1;33m\u001B[0m\u001B[1;33m\u001B[0m\u001B[0m\n\u001B[0;32m    225\u001B[0m         \u001B[1;31m# Cannot rely on checking for EEXIST, since the operating system\u001B[0m\u001B[1;33m\u001B[0m\u001B[1;33m\u001B[0m\u001B[1;33m\u001B[0m\u001B[0m\n",
      "\u001B[1;31mFileExistsError\u001B[0m: [WinError 183] Cannot create a file when that file already exists: 'C:\\\\Dev\\\\Smart Car Project\\\\auton-car-nnetwork\\\\data\\\\self-made-blur4\\\\frames'"
     ]
    }
   ],
   "source": [
    "augmented_df = dataset_load(dataset_1, \"dataset-aug.csv\")\n",
    "blurred_df = blur_dataset(dataset_1, \"self-made-blur4\", augmented_df, sigma=4)\n",
    "dataset_save(\"self-made-blur4\", blurred_df, \"dataset-aug.csv\")"
   ],
   "metadata": {
    "collapsed": false,
    "pycharm": {
     "name": "#%%\n"
    }
   }
  },
  {
   "cell_type": "markdown",
   "source": [
    "To create mixed versions of the original and blurred dataset, the non-augmented definition is loaded.\n",
    "This is used to mix the dataset and augmentation is applied on the resulting dataset - the definitions\n",
    "are saved for both parts. The mixing is performed three times with different mixing percentages applied."
   ],
   "metadata": {
    "collapsed": false,
    "pycharm": {
     "name": "#%% md\n"
    }
   }
  },
  {
   "cell_type": "code",
   "execution_count": 3,
   "outputs": [],
   "source": [
    "dataset_df = dataset_load(dataset_1, \"dataset.csv\")\n",
    "\n",
    "mixed_df = mix_datasets(dataset_1, \"self-made-blur4\", \"mixed4-75\", dataset_df, percentage=0.75)\n",
    "dataset_save(\"mixed4-75\", mixed_df, \"dataset.csv\")\n",
    "\n",
    "augmented_df = augment(\"mixed4-75\", mixed_df)\n",
    "dataset_save(\"mixed4-75\", augmented_df, \"dataset-aug.csv\")"
   ],
   "metadata": {
    "collapsed": false,
    "pycharm": {
     "name": "#%%\n"
    }
   }
  },
  {
   "cell_type": "code",
   "execution_count": 4,
   "outputs": [],
   "source": [
    "dataset_df = dataset_load(dataset_1, \"dataset.csv\")\n",
    "\n",
    "mixed_df = mix_datasets(dataset_1, \"self-made-blur4\", \"mixed4-50\", dataset_df, percentage=0.50)\n",
    "dataset_save(\"mixed4-50\", mixed_df, \"dataset.csv\")\n",
    "\n",
    "augmented_df = augment(\"mixed4-50\", mixed_df)\n",
    "dataset_save(\"mixed4-50\", augmented_df, \"dataset-aug.csv\")"
   ],
   "metadata": {
    "collapsed": false,
    "pycharm": {
     "name": "#%%\n"
    }
   }
  },
  {
   "cell_type": "code",
   "execution_count": 5,
   "outputs": [],
   "source": [
    "dataset_df = dataset_load(dataset_1, \"dataset.csv\")\n",
    "\n",
    "mixed_df = mix_datasets(dataset_1, \"self-made-blur4\", \"mixed4-25\", dataset_df, percentage=0.25)\n",
    "dataset_save(\"mixed4-25\", mixed_df, \"dataset.csv\")\n",
    "\n",
    "augmented_df = augment(\"mixed4-25\", mixed_df)\n",
    "dataset_save(\"mixed4-25\", augmented_df, \"dataset-aug.csv\")"
   ],
   "metadata": {
    "collapsed": false,
    "pycharm": {
     "name": "#%%\n"
    }
   }
  }
 ],
 "metadata": {
  "kernelspec": {
   "display_name": "Python 3",
   "language": "python",
   "name": "python3"
  },
  "language_info": {
   "codemirror_mode": {
    "name": "ipython",
    "version": 2
   },
   "file_extension": ".py",
   "mimetype": "text/x-python",
   "name": "python",
   "nbconvert_exporter": "python",
   "pygments_lexer": "ipython2",
   "version": "2.7.6"
  }
 },
 "nbformat": 4,
 "nbformat_minor": 0
}