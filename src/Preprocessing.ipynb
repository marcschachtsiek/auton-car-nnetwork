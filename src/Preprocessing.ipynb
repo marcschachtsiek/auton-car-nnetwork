{
 "cells": [
  {
   "cell_type": "markdown",
   "source": [
    "## Dataset Creation and Data Augmentation\n",
    "\n",
    "1. Set working directory to folder containing the datasets\n",
    "2. Create the dataset from the recorded frames and steering angles\n",
    "3. Augment the original data with mirrored frames and inverted steering angles"
   ],
   "metadata": {
    "collapsed": false,
    "pycharm": {
     "name": "#%% md\n"
    }
   }
  },
  {
   "cell_type": "code",
   "execution_count": 10,
   "outputs": [],
   "source": [
    "import os\n",
    "\n",
    "os.chdir(\"C:\\\\Dev\\\\Smart Car Project\\\\auton-car-nnetwork\\\\data\")"
   ],
   "metadata": {
    "collapsed": false,
    "pycharm": {
     "name": "#%%\n"
    }
   }
  },
  {
   "cell_type": "code",
   "execution_count": null,
   "outputs": [],
   "source": [
    "from src.preprocess import create_dataset, dataset_save\n",
    "\n",
    "dataset_df = create_dataset(\"self-made\", \"angels.csv\")\n",
    "dataset_save(\"self-made\" , dataset_df, \"dataset.csv\")"
   ],
   "metadata": {
    "collapsed": false,
    "pycharm": {
     "name": "#%%\n"
    }
   }
  },
  {
   "cell_type": "code",
   "execution_count": null,
   "outputs": [],
   "source": [
    "from src.preprocess import augment\n",
    "\n",
    "augmented_df = augment(\"self-made\", dataset_df)\n",
    "dataset_save(\"self-made\", augmented_df, \"dataset-aug.csv\")"
   ],
   "metadata": {
    "collapsed": false,
    "pycharm": {
     "name": "#%%\n"
    }
   }
  }
 ],
 "metadata": {
  "kernelspec": {
   "display_name": "Python 3",
   "language": "python",
   "name": "python3"
  },
  "language_info": {
   "codemirror_mode": {
    "name": "ipython",
    "version": 2
   },
   "file_extension": ".py",
   "mimetype": "text/x-python",
   "name": "python",
   "nbconvert_exporter": "python",
   "pygments_lexer": "ipython2",
   "version": "2.7.6"
  }
 },
 "nbformat": 4,
 "nbformat_minor": 0
}