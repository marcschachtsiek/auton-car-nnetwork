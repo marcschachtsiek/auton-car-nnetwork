{
 "cells": [
  {
   "cell_type": "code",
   "execution_count": 1,
   "metadata": {
    "collapsed": true
   },
   "outputs": [
    {
     "name": "stderr",
     "output_type": "stream",
     "text": [
      "c:\\program files\\python38\\lib\\site-packages\\numpy\\_distributor_init.py:30: UserWarning: loaded more than 1 DLL from .libs:\n",
      "c:\\program files\\python38\\lib\\site-packages\\numpy\\.libs\\libopenblas.NOIJJG62EMASZI6NYURL6JBKM4EVBGM7.gfortran-win_amd64.dll\n",
      "c:\\program files\\python38\\lib\\site-packages\\numpy\\.libs\\libopenblas.PYQHXLVVQ7VESDPUVUADXEVJOBGHJPAY.gfortran-win_amd64.dll\n",
      "  warnings.warn(\"loaded more than 1 DLL from .libs:\\n%s\" %\n"
     ]
    }
   ],
   "source": [
    "import os\n",
    "os.environ['TF_CPP_MIN_LOG_LEVEL'] = '1'\n",
    "\n",
    "import tensorflow as tf\n",
    "physical_devices = tf.config.list_physical_devices('GPU')\n",
    "tf.config.experimental.set_memory_growth(physical_devices[0], True)\n",
    "\n",
    "os.chdir(\"C:\\\\Dev\\\\Smart Car Project\\\\auton-car-nnetwork\\\\data\")\n",
    "\n",
    "from src.preprocess import model as md\n",
    "\n",
    "m_25, m_50, m_75 = \"mixed4-25\", \"mixed4-50\", \"mixed4-75\""
   ]
  },
  {
   "cell_type": "code",
   "execution_count": 2,
   "outputs": [
    {
     "name": "stdout",
     "output_type": "stream",
     "text": [
      "Found 48673 non-validated image filenames.\n",
      "Found 12168 non-validated image filenames.\n",
      "Found 48673 non-validated image filenames.\n",
      "Found 12168 non-validated image filenames.\n",
      "Found 48673 non-validated image filenames.\n",
      "Found 12168 non-validated image filenames.\n"
     ]
    }
   ],
   "source": [
    "from src.preprocess.model import load_data\n",
    "from src.preprocess import dataset_load\n",
    "\n",
    "train_gens = {}\n",
    "valid_gens = {}\n",
    "\n",
    "for dataset in [m_25, m_50, m_75]:\n",
    "    aug_df = dataset_load(dataset, \"dataset-aug.csv\")\n",
    "    train_gens[dataset], valid_gens[dataset] = load_data(dataset, aug_df, pre_shuffle=True, seed=41)"
   ],
   "metadata": {
    "collapsed": false,
    "pycharm": {
     "name": "#%%\n"
    }
   }
  },
  {
   "cell_type": "code",
   "execution_count": 3,
   "outputs": [
    {
     "name": "stdout",
     "output_type": "stream",
     "text": [
      "Model: \"sequential\"\n",
      "_________________________________________________________________\n",
      "Layer (type)                 Output Shape              Param #   \n",
      "=================================================================\n",
      "cropping2d (Cropping2D)      (None, 144, 320, 3)       0         \n",
      "_________________________________________________________________\n",
      "lambda (Lambda)              (None, 144, 320, 3)       0         \n",
      "_________________________________________________________________\n",
      "conv2d (Conv2D)              (None, 140, 316, 16)      1216      \n",
      "_________________________________________________________________\n",
      "max_pooling2d (MaxPooling2D) (None, 70, 158, 16)       0         \n",
      "_________________________________________________________________\n",
      "conv2d_1 (Conv2D)            (None, 66, 154, 32)       12832     \n",
      "_________________________________________________________________\n",
      "max_pooling2d_1 (MaxPooling2 (None, 33, 77, 32)        0         \n",
      "_________________________________________________________________\n",
      "conv2d_2 (Conv2D)            (None, 29, 73, 64)        51264     \n",
      "_________________________________________________________________\n",
      "max_pooling2d_2 (MaxPooling2 (None, 14, 36, 64)        0         \n",
      "_________________________________________________________________\n",
      "flatten (Flatten)            (None, 32256)             0         \n",
      "_________________________________________________________________\n",
      "dense (Dense)                (None, 10)                322570    \n",
      "_________________________________________________________________\n",
      "dense_1 (Dense)              (None, 1)                 11        \n",
      "=================================================================\n",
      "Total params: 387,893\n",
      "Trainable params: 387,893\n",
      "Non-trainable params: 0\n",
      "_________________________________________________________________\n",
      "None\n",
      "INFO:tensorflow:Assets written to: mixed4-25\\Model-s41-e70\\model-001-0.016\\assets\n",
      "INFO:tensorflow:Assets written to: mixed4-25\\Model-s41-e70\\model-002-0.014\\assets\n",
      "INFO:tensorflow:Assets written to: mixed4-25\\Model-s41-e70\\model-003-0.013\\assets\n",
      "INFO:tensorflow:Assets written to: mixed4-25\\Model-s41-e70\\model-004-0.011\\assets\n",
      "INFO:tensorflow:Assets written to: mixed4-25\\Model-s41-e70\\model-005-0.011\\assets\n",
      "INFO:tensorflow:Assets written to: mixed4-25\\Model-s41-e70\\model-006-0.010\\assets\n",
      "INFO:tensorflow:Assets written to: mixed4-25\\Model-s41-e70\\model-007-0.009\\assets\n",
      "INFO:tensorflow:Assets written to: mixed4-25\\Model-s41-e70\\model-008-0.009\\assets\n",
      "INFO:tensorflow:Assets written to: mixed4-25\\Model-s41-e70\\model-009-0.008\\assets\n",
      "INFO:tensorflow:Assets written to: mixed4-25\\Model-s41-e70\\model-010-0.008\\assets\n",
      "INFO:tensorflow:Assets written to: mixed4-25\\Model-s41-e70\\model-012-0.008\\assets\n",
      "INFO:tensorflow:Assets written to: mixed4-25\\Model-s41-e70\\model-013-0.007\\assets\n",
      "INFO:tensorflow:Assets written to: mixed4-25\\Model-s41-e70\\model-014-0.007\\assets\n",
      "INFO:tensorflow:Assets written to: mixed4-25\\Model-s41-e70\\model-015-0.007\\assets\n",
      "INFO:tensorflow:Assets written to: mixed4-25\\Model-s41-e70\\model-019-0.006\\assets\n",
      "INFO:tensorflow:Assets written to: mixed4-25\\Model-s41-e70\\model-021-0.006\\assets\n",
      "INFO:tensorflow:Assets written to: mixed4-25\\Model-s41-e70\\model-022-0.006\\assets\n",
      "INFO:tensorflow:Assets written to: mixed4-25\\Model-s41-e70\\model-024-0.006\\assets\n",
      "INFO:tensorflow:Assets written to: mixed4-25\\Model-s41-e70\\model-025-0.005\\assets\n",
      "INFO:tensorflow:Assets written to: mixed4-25\\Model-s41-e70\\model-026-0.005\\assets\n",
      "INFO:tensorflow:Assets written to: mixed4-25\\Model-s41-e70\\model-028-0.005\\assets\n",
      "INFO:tensorflow:Assets written to: mixed4-25\\Model-s41-e70\\model-029-0.005\\assets\n",
      "INFO:tensorflow:Assets written to: mixed4-25\\Model-s41-e70\\model-031-0.005\\assets\n",
      "INFO:tensorflow:Assets written to: mixed4-25\\Model-s41-e70\\model-034-0.005\\assets\n",
      "INFO:tensorflow:Assets written to: mixed4-25\\Model-s41-e70\\model-036-0.005\\assets\n",
      "INFO:tensorflow:Assets written to: mixed4-25\\Model-s41-e70\\model-040-0.005\\assets\n",
      "INFO:tensorflow:Assets written to: mixed4-25\\Model-s41-e70\\model-041-0.005\\assets\n",
      "INFO:tensorflow:Assets written to: mixed4-25\\Model-s41-e70\\model-042-0.005\\assets\n",
      "INFO:tensorflow:Assets written to: mixed4-25\\Model-s41-e70\\model-047-0.005\\assets\n",
      "INFO:tensorflow:Assets written to: mixed4-25\\Model-s41-e70\\model-051-0.004\\assets\n",
      "INFO:tensorflow:Assets written to: mixed4-25\\Model-s41-e70\\model-057-0.004\\assets\n",
      "INFO:tensorflow:Assets written to: mixed4-25\\Model-s41-e70\\model-062-0.004\\assets\n"
     ]
    }
   ],
   "source": [
    "sm_model = md.compile_model(md.model_jnet(0, 96, 0, 0, (240, 320, 3)), lr=1e-3)\n",
    "md.fit_model(m_25, \"Model-s41-e70\", sm_model, train_gens[m_25], valid_gens[m_25], epochs=70, max_queue_size=32, workers=8)"
   ],
   "metadata": {
    "collapsed": false,
    "pycharm": {
     "name": "#%%\n"
    }
   }
  },
  {
   "cell_type": "code",
   "execution_count": null,
   "outputs": [
    {
     "name": "stdout",
     "output_type": "stream",
     "text": [
      "Model: \"sequential_1\"\n",
      "_________________________________________________________________\n",
      "Layer (type)                 Output Shape              Param #   \n",
      "=================================================================\n",
      "cropping2d_1 (Cropping2D)    (None, 144, 320, 3)       0         \n",
      "_________________________________________________________________\n",
      "lambda_1 (Lambda)            (None, 144, 320, 3)       0         \n",
      "_________________________________________________________________\n",
      "conv2d_3 (Conv2D)            (None, 140, 316, 16)      1216      \n",
      "_________________________________________________________________\n",
      "max_pooling2d_3 (MaxPooling2 (None, 70, 158, 16)       0         \n",
      "_________________________________________________________________\n",
      "conv2d_4 (Conv2D)            (None, 66, 154, 32)       12832     \n",
      "_________________________________________________________________\n",
      "max_pooling2d_4 (MaxPooling2 (None, 33, 77, 32)        0         \n",
      "_________________________________________________________________\n",
      "conv2d_5 (Conv2D)            (None, 29, 73, 64)        51264     \n",
      "_________________________________________________________________\n",
      "max_pooling2d_5 (MaxPooling2 (None, 14, 36, 64)        0         \n",
      "_________________________________________________________________\n",
      "flatten_1 (Flatten)          (None, 32256)             0         \n",
      "_________________________________________________________________\n",
      "dense_2 (Dense)              (None, 10)                322570    \n",
      "_________________________________________________________________\n",
      "dense_3 (Dense)              (None, 1)                 11        \n",
      "=================================================================\n",
      "Total params: 387,893\n",
      "Trainable params: 387,893\n",
      "Non-trainable params: 0\n",
      "_________________________________________________________________\n",
      "None\n",
      "INFO:tensorflow:Assets written to: mixed4-50\\Model-s41-e70\\model-001-0.015\\assets\n",
      "INFO:tensorflow:Assets written to: mixed4-50\\Model-s41-e70\\model-002-0.014\\assets\n",
      "INFO:tensorflow:Assets written to: mixed4-50\\Model-s41-e70\\model-003-0.014\\assets\n",
      "INFO:tensorflow:Assets written to: mixed4-50\\Model-s41-e70\\model-004-0.011\\assets\n",
      "INFO:tensorflow:Assets written to: mixed4-50\\Model-s41-e70\\model-005-0.011\\assets\n",
      "INFO:tensorflow:Assets written to: mixed4-50\\Model-s41-e70\\model-006-0.011\\assets\n",
      "INFO:tensorflow:Assets written to: mixed4-50\\Model-s41-e70\\model-007-0.011\\assets\n",
      "INFO:tensorflow:Assets written to: mixed4-50\\Model-s41-e70\\model-008-0.010\\assets\n",
      "INFO:tensorflow:Assets written to: mixed4-50\\Model-s41-e70\\model-009-0.009\\assets\n"
     ]
    }
   ],
   "source": [
    "sm_model = md.compile_model(md.model_jnet(0, 96, 0, 0, (240, 320, 3)), lr=1e-3)\n",
    "md.fit_model(m_50, \"Model-s41-e70\", sm_model, train_gens[m_50], valid_gens[m_50], epochs=70, max_queue_size=32, workers=8)"
   ],
   "metadata": {
    "collapsed": false,
    "pycharm": {
     "name": "#%%\n",
     "is_executing": true
    }
   }
  },
  {
   "cell_type": "code",
   "execution_count": null,
   "outputs": [],
   "source": [
    "sm_model = md.compile_model(md.model_jnet(0, 96, 0, 0, (240, 320, 3)), lr=1e-3)\n",
    "md.fit_model(m_75, \"Model-s41-e70\", sm_model, train_gens[m_75], valid_gens[m_75], epochs=70, max_queue_size=32, workers=8)"
   ],
   "metadata": {
    "collapsed": false,
    "pycharm": {
     "name": "#%%\n",
     "is_executing": true
    }
   }
  }
 ],
 "metadata": {
  "kernelspec": {
   "display_name": "Python 3",
   "language": "python",
   "name": "python3"
  },
  "language_info": {
   "codemirror_mode": {
    "name": "ipython",
    "version": 2
   },
   "file_extension": ".py",
   "mimetype": "text/x-python",
   "name": "python",
   "nbconvert_exporter": "python",
   "pygments_lexer": "ipython2",
   "version": "2.7.6"
  }
 },
 "nbformat": 4,
 "nbformat_minor": 0
}